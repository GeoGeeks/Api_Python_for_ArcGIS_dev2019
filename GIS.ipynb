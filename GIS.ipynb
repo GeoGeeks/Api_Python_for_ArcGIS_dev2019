{
 "cells": [
  {
   "cell_type": "code",
   "execution_count": 5,
   "metadata": {},
   "outputs": [],
   "source": [
    "from arcgis import GIS\n",
    "import os\n",
    "import zipfile"
   ]
  },
  {
   "cell_type": "code",
   "execution_count": 10,
   "metadata": {
    "scrolled": false
   },
   "outputs": [
    {
     "name": "stdout",
     "output_type": "stream",
     "text": [
      "Enter password: ········\n"
     ]
    }
   ],
   "source": [
    "gis = GIS(\"https://www.arcgis.com\", username=\"rmartin_geek\")"
   ]
  },
  {
   "cell_type": "code",
   "execution_count": 7,
   "metadata": {},
   "outputs": [],
   "source": [
    "fantasy_zip = zipfile.ZipFile('Datos\\Colegios.zip', 'w')\n",
    " \n",
    "for folder, subfolders, files in os.walk('Datos\\Colegios'):\n",
    " \n",
    "    for file in files:\n",
    "        fantasy_zip.write(os.path.join(folder, file), os.path.relpath(os.path.join(folder,file), 'Datos\\Colegios'), compress_type = zipfile.ZIP_DEFLATED)\n",
    "fantasy_zip.close() "
   ]
  },
  {
   "cell_type": "code",
   "execution_count": 11,
   "metadata": {
    "scrolled": true
   },
   "outputs": [
    {
     "data": {
      "text/html": [
       "<div class=\"item_container\" style=\"height: auto; overflow: hidden; border: 1px solid #cfcfcf; border-radius: 2px; background: #f6fafa; line-height: 1.21429em; padding: 10px;\">\n",
       "                    <div class=\"item_left\" style=\"width: 210px; float: left;\">\n",
       "                       <a href='https://geogeeks2.maps.arcgis.com/home/item.html?id=c7ddbd7a5394432d97259417b10d817c' target='_blank'>\n",
       "                        <img src='http://static.arcgis.com/images/desktopapp.png' class=\"itemThumbnail\">\n",
       "                       </a>\n",
       "                    </div>\n",
       "\n",
       "                    <div class=\"item_right\"     style=\"float: none; width: auto; overflow: hidden;\">\n",
       "                        <a href='https://geogeeks2.maps.arcgis.com/home/item.html?id=c7ddbd7a5394432d97259417b10d817c' target='_blank'><b>Colegios_demo</b>\n",
       "                        </a>\n",
       "                        <br/><img src='https://geogeeks2.maps.arcgis.com/home/js/jsapi/esri/css/images/item_type_icons/datafiles16.png' style=\"vertical-align:middle;\">Shapefile by rmartin_geek\n",
       "                        <br/>Last Modified: octubre 18, 2019\n",
       "                        <br/>0 comments, 0 views\n",
       "                    </div>\n",
       "                </div>\n",
       "                "
      ],
      "text/plain": [
       "<Item title:\"Colegios_demo\" type:Shapefile owner:rmartin_geek>"
      ]
     },
     "execution_count": 11,
     "metadata": {},
     "output_type": "execute_result"
    }
   ],
   "source": [
    "School_properties = {\n",
    "    'title': 'Colegios_demo',\n",
    "    'tags': 'Colegios, open data, tutorials',\n",
    "    'type': 'Shapefile'\n",
    "}\n",
    "data_file_location = 'Datos\\Colegios.zip'\n",
    "Colegios_shp = gis.content.add(School_properties, data=data_file_location,folder=\"API Python demos\")\n",
    "\n",
    "\n",
    "Colegios_shp"
   ]
  },
  {
   "cell_type": "code",
   "execution_count": 12,
   "metadata": {},
   "outputs": [
    {
     "data": {
      "text/html": [
       "<div class=\"item_container\" style=\"height: auto; overflow: hidden; border: 1px solid #cfcfcf; border-radius: 2px; background: #f6fafa; line-height: 1.21429em; padding: 10px;\">\n",
       "                    <div class=\"item_left\" style=\"width: 210px; float: left;\">\n",
       "                       <a href='https://geogeeks2.maps.arcgis.com/home/item.html?id=a884d169a50348079855a6b5bd9d7241' target='_blank'>\n",
       "                        <img src='http://static.arcgis.com/images/desktopapp.png' class=\"itemThumbnail\">\n",
       "                       </a>\n",
       "                    </div>\n",
       "\n",
       "                    <div class=\"item_right\"     style=\"float: none; width: auto; overflow: hidden;\">\n",
       "                        <a href='https://geogeeks2.maps.arcgis.com/home/item.html?id=a884d169a50348079855a6b5bd9d7241' target='_blank'><b>Colegios_demo</b>\n",
       "                        </a>\n",
       "                        <br/><img src='https://geogeeks2.maps.arcgis.com/home/js/jsapi/esri/css/images/item_type_icons/featureshosted16.png' style=\"vertical-align:middle;\">Feature Layer Collection by rmartin_geek\n",
       "                        <br/>Last Modified: octubre 18, 2019\n",
       "                        <br/>0 comments, 0 views\n",
       "                    </div>\n",
       "                </div>\n",
       "                "
      ],
      "text/plain": [
       "<Item title:\"Colegios_demo\" type:Feature Layer Collection owner:rmartin_geek>"
      ]
     },
     "execution_count": 12,
     "metadata": {},
     "output_type": "execute_result"
    }
   ],
   "source": [
    "School_feature_layer_item = Colegios_shp.publish()\n",
    "\n",
    "# Then visualize the new feature layer\n",
    "School_feature_layer_item"
   ]
  },
  {
   "cell_type": "code",
   "execution_count": 3,
   "metadata": {},
   "outputs": [
    {
     "data": {
      "application/vnd.jupyter.widget-view+json": {
       "model_id": "1acfdfab98984804ae35d3b03456fe70",
       "version_major": 2,
       "version_minor": 0
      },
      "text/plain": [
       "MapView(layout=Layout(height='400px', width='100%'))"
      ]
     },
     "metadata": {},
     "output_type": "display_data"
    },
    {
     "data": {
      "text/html": [
       "<div class=\"map-static-img-preview-abf2120e-987e-4b61-84ee-c32c4c2f0b90\"><img src=\"\"></img></div>"
      ],
      "text/plain": [
       "<IPython.core.display.HTML object>"
      ]
     },
     "metadata": {},
     "output_type": "display_data"
    }
   ],
   "source": [
    "m= gis.map('Bogotá, COL')\n",
    "m"
   ]
  },
  {
   "cell_type": "code",
   "execution_count": null,
   "metadata": {},
   "outputs": [],
   "source": [
    "m.ad"
   ]
  }
 ],
 "metadata": {
  "kernelspec": {
   "display_name": "Python 3",
   "language": "python",
   "name": "python3"
  },
  "language_info": {
   "codemirror_mode": {
    "name": "ipython",
    "version": 3
   },
   "file_extension": ".py",
   "mimetype": "text/x-python",
   "name": "python",
   "nbconvert_exporter": "python",
   "pygments_lexer": "ipython3",
   "version": "3.6.8"
  }
 },
 "nbformat": 4,
 "nbformat_minor": 2
}
