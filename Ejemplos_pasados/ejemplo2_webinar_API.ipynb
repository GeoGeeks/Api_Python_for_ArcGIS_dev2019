{
 "cells": [
  {
   "cell_type": "markdown",
   "metadata": {
    "extensions": {
     "jupyter_dashboards": {
      "version": 1,
      "views": {
       "grid_default": {
        "col": 0,
        "height": 4,
        "hidden": false,
        "row": 0,
        "width": 12
       },
       "report_default": {
        "hidden": false
       }
      }
     }
    }
   },
   "source": [
    "# Ejemplo 3:  Recorrido de Aves\n",
    "\n",
    "<img src=\"buteo_albigula.jpg\">\n",
    "\n",
    "Un biólogo está estudiando el patrón de migración del ave *Buteo albigula* en Suramérica. Para esto accedió a la siguiente base de datos https://www.movebank.org  (Study-Marc Bechard Hawks) y obtuvo un archivo de puntos con la localización de un individuo para diferentes días entre enero y octubre de 2011.\n",
    "\n",
    "Su primer objetivo consiste en visualizar el recorrido del ave a lo largo del tiempo y su segundo objetivo consiste en analizar el área donde el individuo se detiene al final del recorrido a partir de imágenes de Landsat 8"
   ]
  },
  {
   "cell_type": "code",
   "execution_count": 2,
   "metadata": {
    "extensions": {
     "jupyter_dashboards": {
      "version": 1,
      "views": {
       "grid_default": {
        "hidden": true
       },
       "report_default": {
        "hidden": true
       }
      }
     }
    }
   },
   "outputs": [],
   "source": [
    "from arcgis import GIS,features\n",
    "from arcgis.raster.functions import *   \n",
    "import time \n",
    "from IPython import display"
   ]
  },
  {
   "cell_type": "code",
   "execution_count": 1,
   "metadata": {
    "extensions": {
     "jupyter_dashboards": {
      "version": 1,
      "views": {
       "grid_default": {
        "col": 0,
        "height": 4,
        "hidden": true,
        "row": 0,
        "width": 4
       },
       "report_default": {
        "hidden": false
       }
      }
     }
    }
   },
   "outputs": [
    {
     "ename": "NameError",
     "evalue": "name 'GIS' is not defined",
     "output_type": "error",
     "traceback": [
      "\u001b[1;31m---------------------------------------------------------------------------\u001b[0m",
      "\u001b[1;31mNameError\u001b[0m                                 Traceback (most recent call last)",
      "\u001b[1;32m<ipython-input-1-d55ee51d5729>\u001b[0m in \u001b[0;36m<module>\u001b[1;34m\u001b[0m\n\u001b[1;32m----> 1\u001b[1;33m \u001b[0mgis\u001b[0m \u001b[1;33m=\u001b[0m \u001b[0mGIS\u001b[0m\u001b[1;33m(\u001b[0m\u001b[0musername\u001b[0m \u001b[1;33m=\u001b[0m \u001b[1;34m'rmartin_geek'\u001b[0m\u001b[1;33m)\u001b[0m\u001b[1;33m\u001b[0m\u001b[1;33m\u001b[0m\u001b[0m\n\u001b[0m",
      "\u001b[1;31mNameError\u001b[0m: name 'GIS' is not defined"
     ]
    }
   ],
   "source": [
    "gis = GIS(username = 'rmartin_geek') "
   ]
  },
  {
   "cell_type": "code",
   "execution_count": null,
   "metadata": {
    "extensions": {
     "jupyter_dashboards": {
      "version": 1,
      "views": {
       "grid_default": {
        "col": 0,
        "height": 16,
        "hidden": false,
        "row": 12,
        "width": null
       },
       "report_default": {
        "hidden": false
       }
      }
     }
    }
   },
   "outputs": [],
   "source": [
    "m = gis.map('Chile')\n",
    "m"
   ]
  },
  {
   "cell_type": "markdown",
   "metadata": {
    "extensions": {
     "jupyter_dashboards": {
      "version": 1,
      "views": {
       "grid_default": {
        "col": 0,
        "height": 6,
        "hidden": true,
        "row": 25,
        "width": 12
       },
       "report_default": {}
      }
     }
    }
   },
   "source": [
    "## Preparar datos y simbología\n",
    "En esta sección vamos a:\n",
    "1. Cargamos los datos \n",
    "2. Realizamos la conversión de `FeatureLayer` a `FeatureSet` dada la ventaja de este último objeto para graficar y realizar operaciones\n",
    "3. Creamos las opciones para la simbología. \n",
    "\n",
    "\n",
    "### Cargar datos \n"
   ]
  },
  {
   "cell_type": "code",
   "execution_count": null,
   "metadata": {
    "extensions": {
     "jupyter_dashboards": {
      "version": 1,
      "views": {
       "grid_default": {
        "hidden": true
       },
       "report_default": {
        "hidden": true
       }
      }
     }
    }
   },
   "outputs": [],
   "source": [
    "aves= features.FeatureLayer('http://geoapps.esri.co:6080/arcgis/rest/services/No_Oficial/DatosButeoAlbigula/MapServer/0')"
   ]
  },
  {
   "cell_type": "markdown",
   "metadata": {},
   "source": [
    "### Realizar conversión"
   ]
  },
  {
   "cell_type": "code",
   "execution_count": null,
   "metadata": {},
   "outputs": [],
   "source": [
    "avesset = aves.query()\n",
    "avesset"
   ]
  },
  {
   "cell_type": "markdown",
   "metadata": {
    "extensions": {
     "jupyter_dashboards": {
      "version": 1,
      "views": {
       "grid_default": {
        "col": 0,
        "height": 4,
        "hidden": true,
        "row": 25,
        "width": 12
       },
       "report_default": {}
      }
     }
    }
   },
   "source": [
    "### Creación de simbología"
   ]
  },
  {
   "cell_type": "code",
   "execution_count": null,
   "metadata": {
    "extensions": {
     "jupyter_dashboards": {
      "version": 1,
      "views": {
       "grid_default": {
        "col": 0,
        "height": 6,
        "hidden": true,
        "row": 25,
        "width": 4
       },
       "report_default": {
        "hidden": false
       }
      }
     }
    }
   },
   "outputs": [],
   "source": [
    "ave = {\"type\":\"esriPMS\",\n",
    "       \"url\":\"http://geoapps.esri.co/Recursos/webinarPython/avecafe.png\",\n",
    "       \"contentType\":\"image/png\",\"width\":24,\"height\":8}"
   ]
  },
  {
   "cell_type": "code",
   "execution_count": null,
   "metadata": {
    "extensions": {
     "jupyter_dashboards": {
      "version": 1,
      "views": {
       "grid_default": {
        "hidden": true
       },
       "report_default": {
        "hidden": true
       }
      }
     }
    }
   },
   "outputs": [],
   "source": [
    "linea = {\"type\": \"esriSLS\",\n",
    "         \"style\": \"esriSLSDash\",\n",
    "         \"color\": [121,85,61,255],\n",
    "         \"width\": 2}"
   ]
  },
  {
   "cell_type": "markdown",
   "metadata": {
    "extensions": {
     "jupyter_dashboards": {
      "version": 1,
      "views": {
       "grid_default": {
        "col": 0,
        "height": 4,
        "hidden": true,
        "row": 25,
        "width": 4
       },
       "report_default": {}
      }
     }
    }
   },
   "source": [
    "## Creación del recorrido \n"
   ]
  },
  {
   "cell_type": "code",
   "execution_count": null,
   "metadata": {
    "extensions": {
     "jupyter_dashboards": {
      "version": 1,
      "views": {
       "grid_default": {
        "hidden": true
       },
       "report_default": {}
      }
     }
    }
   },
   "outputs": [],
   "source": [
    "coords = [avesset.features[i].geometry for i in range(len(avesset.features))]\n",
    "tiempo = 0.5\n",
    "for i in range(len(avesset.features)):\n",
    "    m.draw(coords[i], symbol=ave)\n",
    "    m.center = coords[i]['y'], coords[i]['x']\n",
    "        #m.clear_graphics()\n",
    "    if i > 0:\n",
    "            #for n in range(1,i):\n",
    "        m.draw ({\"paths\" : [[[coords[i-1]['x'],coords[i-1]['y']], [coords[i]['x'],coords[i]['y']]]],\n",
    "                    \"spatialReference\" : {\"wkid\" : 4326}}, symbol=linea)\n",
    "    time.sleep(tiempo)\n"
   ]
  },
  {
   "cell_type": "code",
   "execution_count": null,
   "metadata": {},
   "outputs": [],
   "source": [
    "m.clear_graphics()"
   ]
  },
  {
   "cell_type": "markdown",
   "metadata": {},
   "source": [
    "## Análisis de imágenes raster de la zona de interés\n",
    "En este punto es de interés para el científico hacer un análisis de coberturas en una zona que el desplegue en el mapa. para realizar esta labor es necesario buscar el servicio que contienen imágenes Landsat, generar una combinación de color que permita su fácil identificación y finalmente desplegar su visualización en el mapa."
   ]
  },
  {
   "cell_type": "code",
   "execution_count": null,
   "metadata": {
    "extensions": {
     "jupyter_dashboards": {
      "version": 1,
      "views": {
       "grid_default": {
        "hidden": true
       },
       "report_default": {}
      }
     }
    }
   },
   "outputs": [],
   "source": [
    "items = gis.content.search('landsat', 'imagery layer', outside_org=True)\n",
    "for item in items:\n",
    "    display.display(item)"
   ]
  },
  {
   "cell_type": "code",
   "execution_count": null,
   "metadata": {},
   "outputs": [],
   "source": [
    "landsatservice = items[2]\n",
    "landsat = landsatservice.layers[0]"
   ]
  },
  {
   "cell_type": "markdown",
   "metadata": {},
   "source": [
    "Generamos una mejora a la imagen acorde a una combinación de color"
   ]
  },
  {
   "cell_type": "code",
   "execution_count": null,
   "metadata": {},
   "outputs": [],
   "source": [
    "imagen = stretch(extract_band(landsat, [5,4,3]), \n",
    "                    stretch_type='StdDev',num_stddev=2.5, dra=True) "
   ]
  },
  {
   "cell_type": "markdown",
   "metadata": {},
   "source": [
    "Seleccionamos la imagen Landsat conforme a la extensión del mapa"
   ]
  },
  {
   "cell_type": "code",
   "execution_count": null,
   "metadata": {},
   "outputs": [],
   "source": [
    "imagen.extent = m.extent\n",
    "imagen"
   ]
  },
  {
   "cell_type": "markdown",
   "metadata": {},
   "source": [
    "Acorde a una necesidad específica del biólogo requiere seleccionar una zona a su gusto por lo cual es necesario dibujar la zona que requiere y exportarla para almacenar en su WebGIS y ompartirla con sus compañeros científicos que comparten en la organización."
   ]
  },
  {
   "cell_type": "code",
   "execution_count": null,
   "metadata": {},
   "outputs": [],
   "source": [
    "def get_geom(m,g):\n",
    "    global geom\n",
    "    geom = g\n",
    "    \n",
    "m.on_draw_end(get_geom)\n"
   ]
  },
  {
   "cell_type": "code",
   "execution_count": null,
   "metadata": {},
   "outputs": [],
   "source": [
    "m.draw('rectangle')"
   ]
  },
  {
   "cell_type": "markdown",
   "metadata": {},
   "source": [
    "para realizar el corte de la zona que dibujó se utilizará la función `clip()`"
   ]
  },
  {
   "cell_type": "code",
   "execution_count": null,
   "metadata": {},
   "outputs": [],
   "source": [
    "from arcgis.raster.functions import clip"
   ]
  },
  {
   "cell_type": "code",
   "execution_count": null,
   "metadata": {},
   "outputs": [],
   "source": [
    "imagen_clip  = clip(landsat, geom)\n",
    "m.add_layer(imagen_clip)"
   ]
  },
  {
   "cell_type": "code",
   "execution_count": null,
   "metadata": {},
   "outputs": [],
   "source": [
    "imagen_clip.extent = geom['cache']['_extent']\n",
    "imagen_clip\n"
   ]
  },
  {
   "cell_type": "markdown",
   "metadata": {},
   "source": [
    "Para mejorar la visualización se realiza un ajuste visual usando la función `stretch()`"
   ]
  },
  {
   "cell_type": "code",
   "execution_count": null,
   "metadata": {},
   "outputs": [],
   "source": [
    "strim= stretch(extract_band(imagen_clip, [5,4,3]), \n",
    "                    stretch_type='StdDev',num_stddev=2.5, dra=True)"
   ]
  },
  {
   "cell_type": "code",
   "execution_count": null,
   "metadata": {},
   "outputs": [],
   "source": [
    "strim"
   ]
  },
  {
   "cell_type": "code",
   "execution_count": null,
   "metadata": {},
   "outputs": [],
   "source": [
    "m.add_layer(strim)"
   ]
  },
  {
   "cell_type": "code",
   "execution_count": null,
   "metadata": {},
   "outputs": [],
   "source": [
    "m.clear_graphics()"
   ]
  },
  {
   "cell_type": "markdown",
   "metadata": {},
   "source": [
    "Finalmente guarda su resultado en su cuenta de ArcGIS Online y compartirlo en la organización"
   ]
  },
  {
   "cell_type": "code",
   "execution_count": null,
   "metadata": {},
   "outputs": [],
   "source": [
    "publicada = strim.save(output_name='Raster ejmplo21', for_viz=True, gis = gis)\n",
    "publicada"
   ]
  },
  {
   "cell_type": "code",
   "execution_count": null,
   "metadata": {},
   "outputs": [],
   "source": [
    "publicada.share(org=True)"
   ]
  }
 ],
 "metadata": {
  "extensions": {
   "jupyter_dashboards": {
    "activeView": "grid_default",
    "version": 1,
    "views": {
     "grid_default": {
      "cellMargin": 10,
      "defaultCellHeight": 20,
      "maxColumns": 12,
      "name": "grid",
      "type": "grid"
     },
     "report_default": {
      "name": "report",
      "type": "report"
     }
    }
   }
  },
  "kernelspec": {
   "display_name": "Python 3",
   "language": "python",
   "name": "python3"
  },
  "language_info": {
   "codemirror_mode": {
    "name": "ipython",
    "version": 3
   },
   "file_extension": ".py",
   "mimetype": "text/x-python",
   "name": "python",
   "nbconvert_exporter": "python",
   "pygments_lexer": "ipython3",
   "version": "3.6.8"
  }
 },
 "nbformat": 4,
 "nbformat_minor": 2
}
